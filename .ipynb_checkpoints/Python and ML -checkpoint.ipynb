{
 "cells": [
  {
   "cell_type": "markdown",
   "id": "a94b40ac",
   "metadata": {},
   "source": [
    "# The Supervised Machine Learning Set Up\n",
    "\n",
    "\n",
    "###  General\n",
    "  * $y$ -- target\n",
    "      * the variable we are trying to predict \n",
    "      \n",
    "  * $x$ -- feature\n",
    "      * $x$ -- multiple features\n",
    "      \n",
    "\n",
    "### Dataset\n",
    "  * $\\mathcal{D_{train}} = \\{ (x_0^0, x_1^0, \\dots y^0),  (x_0^1, x_1^1, \\dots y^1), \\dots \\})$ \n",
    "\n",
    "\n",
    "### Relationships\n",
    "  * $y = f(x)$\n",
    "      * you can calculate y from x\n",
    "      \n",
    "  * $\\hat{y}$ -- the estimate for $y$\n",
    "  \n",
    "  * $\\hat{y} = \\hat{f}(x)$ -- the estimate for $f$\n",
    "  \n",
    "### Loss\n",
    "  \n",
    "  * $loss(\\hat{y^i}, y^i)$ -- how wrong we are at each point; how bad an estimated *point*\n",
    "  \n",
    "      * $L = \\sum loss(\\hat{y}, y)$ -- total loss\n",
    "          * how wrong the entire model is; how wrong *every* point is \n",
    "      "
   ]
  },
  {
   "cell_type": "markdown",
   "id": "2d531788",
   "metadata": {},
   "source": [
    "### An example Problem\n",
    "\n",
    " * $y$: film rating \n",
    " * $x$: user's age "
   ]
  },
  {
   "cell_type": "code",
   "execution_count": 4,
   "id": "b8ecff5f",
   "metadata": {},
   "outputs": [],
   "source": [
    "def f_rating(x):\n",
    "    return(0.08 * x + 0.5)"
   ]
  },
  {
   "cell_type": "code",
   "execution_count": 24,
   "id": "de2428c3",
   "metadata": {},
   "outputs": [
    {
     "data": {
      "text/plain": [
       "2.1799999999999997"
      ]
     },
     "execution_count": 24,
     "metadata": {},
     "output_type": "execute_result"
    }
   ],
   "source": [
    "y0 = f_rating(21)\n",
    "\n",
    "y0"
   ]
  },
  {
   "cell_type": "code",
   "execution_count": 50,
   "id": "f63f001f",
   "metadata": {},
   "outputs": [
    {
     "data": {
      "text/plain": [
       "{10: 1.3, 0: 0.5, 80: 6.9}"
      ]
     },
     "execution_count": 50,
     "metadata": {},
     "output_type": "execute_result"
    }
   ],
   "source": [
    "### Let's capture age and film rating into a Data Dictionary \n",
    "### Data Dictionary contains a pair of values -- key & value --> \n",
    "### in our problem we have age and then the value rating of the movie\n",
    "\n",
    "{\n",
    "    \n",
    "  10  : f_rating(10), \n",
    "   0  : f_rating(0), \n",
    "   80 : f_rating(80)\n",
    "}\n",
    "\n"
   ]
  },
  {
   "cell_type": "code",
   "execution_count": 51,
   "id": "33fe81d2",
   "metadata": {},
   "outputs": [],
   "source": [
    "def fhat_rating(x):\n",
    "    return 0.07 * x + 0.6 "
   ]
  },
  {
   "cell_type": "code",
   "execution_count": 52,
   "id": "146e7cf6",
   "metadata": {},
   "outputs": [
    {
     "data": {
      "text/plain": [
       "2.0700000000000003"
      ]
     },
     "execution_count": 52,
     "metadata": {},
     "output_type": "execute_result"
    }
   ],
   "source": [
    "yhat0 = fhat_rating(21)\n",
    "\n",
    "yhat0 "
   ]
  },
  {
   "cell_type": "code",
   "execution_count": 54,
   "id": "49d35e12",
   "metadata": {},
   "outputs": [],
   "source": [
    "def loss_rating(yhat, y): \n",
    "    return(yhat - y) ** 2"
   ]
  },
  {
   "cell_type": "code",
   "execution_count": 55,
   "id": "a5c9e0f1",
   "metadata": {},
   "outputs": [
    {
     "data": {
      "text/plain": [
       "0.012099999999999875"
      ]
     },
     "execution_count": 55,
     "metadata": {},
     "output_type": "execute_result"
    }
   ],
   "source": [
    "loss_rating(yhat0, y0)"
   ]
  },
  {
   "cell_type": "code",
   "execution_count": 56,
   "id": "673a4548",
   "metadata": {},
   "outputs": [],
   "source": [
    "Dtrain = [\n",
    "    (10, 3), # (x, y) = (age, rating)\n",
    "    (17, 3.1),\n",
    "    (18, 4.2),\n",
    "    (21, 5.6),\n",
    "    (32, 7),\n",
    "    (41, 7.5),\n",
    "    (51, 8),\n",
    "    (69, 8.5),\n",
    "    (81, 9),\n",
    "]"
   ]
  },
  {
   "cell_type": "code",
   "execution_count": 57,
   "id": "d0c0a560",
   "metadata": {},
   "outputs": [],
   "source": [
    "yhat = []\n",
    "loss = []\n",
    "\n",
    "for (x, y) in Dtrain: \n",
    "    prediction = fhat_rating(x)\n",
    "    error = loss_rating(prediction, y)\n",
    "    \n",
    "    yhat.append(prediction)\n",
    "    loss.append(error)\n",
    "    "
   ]
  },
  {
   "cell_type": "markdown",
   "id": "2e75311c",
   "metadata": {},
   "source": [
    "### Regression \n",
    "\n",
    "   * $y \\in \\mathbb{R}$   \n",
    "```python \n",
    "  this means y is in a set of real numbers \n",
    "```\n",
    "     \n",
    "```python\n",
    "\n",
    "   type(y) is float \n",
    "```"
   ]
  },
  {
   "cell_type": "code",
   "execution_count": 58,
   "id": "58d909e1",
   "metadata": {},
   "outputs": [
    {
     "data": {
      "text/plain": [
       "False"
      ]
     },
     "execution_count": 58,
     "metadata": {},
     "output_type": "execute_result"
    }
   ],
   "source": [
    "type(y) is float"
   ]
  },
  {
   "cell_type": "markdown",
   "id": "04dc1d5c",
   "metadata": {},
   "source": [
    "### Classification\n",
    "\n",
    "* binary classification \n",
    "    * e.g. likes or dislike \n",
    "    * $y \\in \\{ -1 , 1 \\}$\n",
    "    \n",
    "* multiclass classification \n",
    "    * $y \\in \\{London, Leeds, Manchester, \\dots \\}$\n",
    "    \n",
    "* Classes require a numerical representation to arrive at computational solution\n",
    "    * $y \\in \\{0, 1,2,3 \\dots \\}$ "
   ]
  },
  {
   "cell_type": "code",
   "execution_count": 42,
   "id": "f9d6cb2d",
   "metadata": {},
   "outputs": [],
   "source": [
    "def f_classify(x):\n",
    "    if x > 200:\n",
    "        return -1 \n",
    "    else:\n",
    "        return +1\n",
    "    "
   ]
  },
  {
   "cell_type": "code",
   "execution_count": 45,
   "id": "580e70cb",
   "metadata": {},
   "outputs": [],
   "source": [
    "y = f_classify(100)\n"
   ]
  },
  {
   "cell_type": "code",
   "execution_count": null,
   "id": "f82002fd",
   "metadata": {},
   "outputs": [],
   "source": [
    "classes = {-1, 1} \n",
    "# this is a set of classes not a dictionary (is a set of numbers)"
   ]
  },
  {
   "cell_type": "markdown",
   "id": "8343808a",
   "metadata": {},
   "source": [
    "```python\n",
    "  y in classes\n",
    "```"
   ]
  },
  {
   "cell_type": "markdown",
   "id": "7390faee",
   "metadata": {},
   "source": [
    "### Example: Classifying a Film\n",
    "\n",
    "Given the age of a user and a length of film, predict whether the user will like or dislike a film. \n",
    "\n",
    "$x_1 : age$ ;\n",
    "$x_2 : length$ ; \n",
    "$y   : like?$\n",
    "\n",
    "given a $\\mathcal{D} = (x_1, x_2, y), \\dots$\n",
    "\n",
    "find a relationship which takes in $x_1$ and $x_2$ which gives an estimate $\\hat{y}$\n",
    "\n",
    "\n",
    "$\\hat{y} = \\hat{f}(x_1, x_2)$\n",
    "\n",
    "where min $loss(\\hat{y}, y)$"
   ]
  },
  {
   "cell_type": "code",
   "execution_count": 44,
   "id": "d6b01a3f",
   "metadata": {},
   "outputs": [],
   "source": [
    "training = {\n",
    "    \n",
    "    'Age'    : [12, 13, 17, 19, 20], \n",
    "    'Lenght' : [90, 100, 200, 180, 320], \n",
    "    'Like?'  : [False, True, True, False, True]\n",
    "    \n",
    "}"
   ]
  },
  {
   "cell_type": "code",
   "execution_count": 45,
   "id": "2b5f883f",
   "metadata": {},
   "outputs": [],
   "source": [
    "x1 = training['Age']\n",
    "x2 = training['Lenght']\n",
    "y = training['Like?']"
   ]
  },
  {
   "cell_type": "code",
   "execution_count": 46,
   "id": "07cac708",
   "metadata": {},
   "outputs": [
    {
     "data": {
      "text/plain": [
       "True"
      ]
     },
     "execution_count": 46,
     "metadata": {},
     "output_type": "execute_result"
    }
   ],
   "source": [
    "def fhat(x1, x2):\n",
    "    # defining the rule which gives True as the age and length of the movie has high values \n",
    "    # and\n",
    "    return(10 * (x1 - 17) + (x2 - 200)) >= 0\n",
    "    \n",
    "fhat(30, 200)\n",
    "    "
   ]
  },
  {
   "cell_type": "code",
   "execution_count": 47,
   "id": "2155daac",
   "metadata": {},
   "outputs": [
    {
     "data": {
      "text/plain": [
       "False"
      ]
     },
     "execution_count": 47,
     "metadata": {},
     "output_type": "execute_result"
    }
   ],
   "source": [
    "fhat(x1[0], x2[0])"
   ]
  },
  {
   "cell_type": "code",
   "execution_count": 48,
   "id": "dc01ebc9",
   "metadata": {},
   "outputs": [],
   "source": [
    "# Defining loss where if prediction = to actual 'Like?' it give me 0 otherwise returns a 1\n",
    "\n",
    "def loss(yhat, y):\n",
    "    if yhat == y: \n",
    "        return 0 \n",
    "    else:\n",
    "        return 1"
   ]
  },
  {
   "cell_type": "code",
   "execution_count": 38,
   "id": "251d75dd",
   "metadata": {},
   "outputs": [
    {
     "data": {
      "text/plain": [
       "0"
      ]
     },
     "execution_count": 38,
     "metadata": {},
     "output_type": "execute_result"
    }
   ],
   "source": [
    "loss(fhat(x1[0], x2[0]), y[0])"
   ]
  },
  {
   "cell_type": "code",
   "execution_count": 42,
   "id": "2a46025a",
   "metadata": {},
   "outputs": [
    {
     "data": {
      "text/plain": [
       "([False, False, True, True, True], [0, 1, 0, 1, 0])"
      ]
     },
     "execution_count": 42,
     "metadata": {},
     "output_type": "execute_result"
    }
   ],
   "source": [
    "# Compute predictions \n",
    "\n",
    "yhat = []\n",
    "errors = []\n",
    "\n",
    "# I want to run a loss usign loops over my data provided above \n",
    "# zip function assigns age to x1, lenght to x2, like to y\n",
    "\n",
    "for age, lenght, like in zip(x1, x2, y):\n",
    "    pred = fhat(age, lenght)\n",
    "    yhat.append(fhat(age, lenght))\n",
    "    errors.append(loss(pred, like))\n",
    "    \n",
    "yhat, errors\n",
    "    "
   ]
  },
  {
   "cell_type": "code",
   "execution_count": 43,
   "id": "2d71e7c1",
   "metadata": {},
   "outputs": [
    {
     "data": {
      "text/plain": [
       "2"
      ]
     },
     "execution_count": 43,
     "metadata": {},
     "output_type": "execute_result"
    }
   ],
   "source": [
    "sum(errors)"
   ]
  }
 ],
 "metadata": {
  "kernelspec": {
   "display_name": "Python 3 (ipykernel)",
   "language": "python",
   "name": "python3"
  },
  "language_info": {
   "codemirror_mode": {
    "name": "ipython",
    "version": 3
   },
   "file_extension": ".py",
   "mimetype": "text/x-python",
   "name": "python",
   "nbconvert_exporter": "python",
   "pygments_lexer": "ipython3",
   "version": "3.9.7"
  }
 },
 "nbformat": 4,
 "nbformat_minor": 5
}
