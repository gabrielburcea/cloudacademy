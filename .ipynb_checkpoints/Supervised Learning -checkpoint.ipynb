{
 "cells": [
  {
   "cell_type": "code",
   "execution_count": 1,
   "id": "083a4f98",
   "metadata": {},
   "outputs": [],
   "source": [
    "%matplotlib inline\n",
    "import matplotlib.pyplot as plt\n",
    "import pandas as pd \n",
    "import numpy as np"
   ]
  },
  {
   "cell_type": "code",
   "execution_count": null,
   "id": "dab2d52e",
   "metadata": {},
   "outputs": [],
   "source": [
    "df = pd.read_csv('.../data/weight-heigh.csv')"
   ]
  },
  {
   "cell_type": "code",
   "execution_count": null,
   "id": "cfc402ce",
   "metadata": {},
   "outputs": [],
   "source": [
    "df.head()"
   ]
  },
  {
   "cell_type": "code",
   "execution_count": null,
   "id": "eb88fee3",
   "metadata": {},
   "outputs": [],
   "source": [
    "df.plot(kind = 'scater', \n",
    "       x= 'Height', \n",
    "       y= 'Weight', \n",
    "       title= 'Weight and Heigh in adults')"
   ]
  },
  {
   "cell_type": "code",
   "execution_count": null,
   "id": "a129a7a1",
   "metadata": {},
   "outputs": [],
   "source": [
    "df.plot(kind = 'scater', \n",
    "       x= 'Height', \n",
    "       y= 'Weight', \n",
    "       title= 'Weight and Heigh in adults')\n",
    "plt.plot[[55, 78], [75, 250], color = 'red', linewidth = 3]"
   ]
  },
  {
   "cell_type": "code",
   "execution_count": null,
   "id": "7f7ba370",
   "metadata": {},
   "outputs": [],
   "source": [
    "def line(x, w=0, b=0):\n",
    "    return x*w + b\n",
    "\n",
    "x = np.linspace(55, 80, 100)\n",
    "yhat = line(x, w = 0, b = 0)\n",
    "\n",
    "df.plot(kind = 'scater', \n",
    "       x = 'Height', \n",
    "       y = 'Weight', \n",
    "       title = 'Wright and Height in adults')\n",
    "\n",
    "plt.plot(x, yhat, color = 'red', linewidth = 3)"
   ]
  },
  {
   "cell_type": "markdown",
   "id": "953b1d4c",
   "metadata": {},
   "source": [
    "### Cost Function "
   ]
  },
  {
   "cell_type": "code",
   "execution_count": null,
   "id": "064a26d7",
   "metadata": {},
   "outputs": [],
   "source": [
    "def mean_squared_error(y_true, y_pred):\n",
    "    s = (y_true - y_pred) ** 2\n",
    "    return s.mean()"
   ]
  },
  {
   "cell_type": "code",
   "execution_count": null,
   "id": "b148a3ad",
   "metadata": {},
   "outputs": [],
   "source": [
    "X = df[['Height']].value\n",
    "y_true = df['Weight'].value"
   ]
  },
  {
   "cell_type": "code",
   "execution_count": null,
   "id": "7fbdfd3b",
   "metadata": {},
   "outputs": [],
   "source": [
    "y_pred = line(X)\n",
    "mean_squared_error(y_true, y_pred)"
   ]
  },
  {
   "cell_type": "markdown",
   "id": "4a5cc65f",
   "metadata": {},
   "source": [
    "!!! Try changing the values of b and w "
   ]
  },
  {
   "cell_type": "markdown",
   "id": "b7daa18e",
   "metadata": {},
   "source": [
    "### Exploring the Cost Value "
   ]
  },
  {
   "cell_type": "code",
   "execution_count": null,
   "id": "f70df49b",
   "metadata": {},
   "outputs": [],
   "source": [
    "# we are going to draw 2 plots in the same figure\n",
    "# first plot, data amd few lines \n",
    "\n",
    "ax1 = plt.subplot(121)\n",
    "df.plot(kind = 'scatter', \n",
    "       x = 'Height', \n",
    "       y = 'Weight', \n",
    "       title = 'Weight and Height in adults', ax = ax1)"
   ]
  },
  {
   "cell_type": "code",
   "execution_count": null,
   "id": "93d62676",
   "metadata": {},
   "outputs": [],
   "source": [
    "#let's explore the cost function for a few values of b between -100 and +100\n",
    "bbs = np.array([-100, -50, 0, 50, 100, 150])\n",
    "\n",
    "mses = [] # we will append the values of the cost here, for each line\n",
    "\n",
    "for b in bbs: \n",
    "    y_pred = line(X, w = 2, b = b)\n",
    "    mse - mean_squared_error(y_true, y_pred)\n",
    "    mses.append(mse)\n",
    "    plt.plot(X, y_pred)\n",
    "    \n",
    "# Second plot: Cost function \n",
    "\n",
    "ax2 = plt.subplot(122)\n",
    "plt.plot(bbs, mses, 'o-')\n",
    "plt.title('Cost as a function of b')\n",
    "plt.xlabel('b')"
   ]
  },
  {
   "cell_type": "markdown",
   "id": "00ff816a",
   "metadata": {},
   "source": [
    "## Linear Regression with Keras"
   ]
  },
  {
   "cell_type": "code",
   "execution_count": null,
   "id": "97e73a80",
   "metadata": {},
   "outputs": [],
   "source": [
    "from keras.models import Sequential\n",
    "from keras.layers import Dense\n",
    "from keras.optimizers import Adam, SGD"
   ]
  },
  {
   "cell_type": "code",
   "execution_count": null,
   "id": "08aa57f6",
   "metadata": {},
   "outputs": [],
   "source": [
    "model = Sequential()\n",
    "model.add(Dense(1, input_shape=(1,)))"
   ]
  },
  {
   "cell_type": "code",
   "execution_count": null,
   "id": "f87522cf",
   "metadata": {},
   "outputs": [],
   "source": [
    "model.summary()"
   ]
  },
  {
   "cell_type": "code",
   "execution_count": null,
   "id": "88c35edd",
   "metadata": {},
   "outputs": [],
   "source": [
    "model.compile(Adam(lr = 0.8), 'mean_squared_error')"
   ]
  },
  {
   "cell_type": "code",
   "execution_count": null,
   "id": "65d41e04",
   "metadata": {},
   "outputs": [],
   "source": [
    "model.fit(X, y_true, epochs = 40)"
   ]
  },
  {
   "cell_type": "code",
   "execution_count": null,
   "id": "6d9e0a71",
   "metadata": {},
   "outputs": [],
   "source": [
    "y_pred = model.predict(X)\n",
    "\n",
    "df.plot(kind = 'scatter', x = 'Height', y = 'Weight', title = 'Weight and Height in aduls')"
   ]
  },
  {
   "cell_type": "code",
   "execution_count": null,
   "id": "5e008c17",
   "metadata": {},
   "outputs": [],
   "source": [
    "W, B = model.get_weights()"
   ]
  },
  {
   "cell_type": "code",
   "execution_count": null,
   "id": "1aeea2dd",
   "metadata": {},
   "outputs": [],
   "source": [
    "W"
   ]
  },
  {
   "cell_type": "code",
   "execution_count": null,
   "id": "2409f672",
   "metadata": {},
   "outputs": [],
   "source": [
    "B"
   ]
  },
  {
   "cell_type": "markdown",
   "id": "1a827c91",
   "metadata": {},
   "source": [
    "### Evaluation Model Performance "
   ]
  },
  {
   "cell_type": "code",
   "execution_count": null,
   "id": "7ddc5262",
   "metadata": {},
   "outputs": [],
   "source": [
    "from sklearn.model_selection import train_test_split"
   ]
  },
  {
   "cell_type": "code",
   "execution_count": null,
   "id": "5b24fe48",
   "metadata": {},
   "outputs": [],
   "source": [
    "X_train, X_test, y_train, y_test = train_test_split(X, y_true, \n",
    "                                                   test_size = 0.2)"
   ]
  },
  {
   "cell_type": "code",
   "execution_count": null,
   "id": "4f8db291",
   "metadata": {},
   "outputs": [],
   "source": [
    "len(X_train)"
   ]
  },
  {
   "cell_type": "code",
   "execution_count": null,
   "id": "eaf7ea99",
   "metadata": {},
   "outputs": [],
   "source": [
    "len(X_test)"
   ]
  },
  {
   "cell_type": "code",
   "execution_count": null,
   "id": "110de633",
   "metadata": {},
   "outputs": [],
   "source": [
    "W[0,0] = 0.0\n",
    "B[0] = 0.0\n",
    "model.set_weights((W, B))"
   ]
  },
  {
   "cell_type": "code",
   "execution_count": null,
   "id": "2c9bcf60",
   "metadata": {},
   "outputs": [],
   "source": [
    "model.fot(X_train, y_train, epochs = 5-, verbose = 0)"
   ]
  },
  {
   "cell_type": "code",
   "execution_count": null,
   "id": "6680e105",
   "metadata": {},
   "outputs": [],
   "source": [
    "y_train_pred = model_predict(X_train).ravel()\n",
    "y_test_pred = model_predict(X_test).ravel()"
   ]
  },
  {
   "cell_type": "code",
   "execution_count": null,
   "id": "8d006710",
   "metadata": {},
   "outputs": [],
   "source": [
    "from sklearn.metrics import mean_squared_error as mse"
   ]
  },
  {
   "cell_type": "code",
   "execution_count": null,
   "id": "f193d46e",
   "metadata": {},
   "outputs": [],
   "source": [
    "print('The Mean Squared Error on the Train set is:\\t{:0.lf}'.format(mse(y_train, y_train_pred))\n",
    "print('The Mean Squared Error on the Test set is:\\t{:0.lf}'.format(mse(y_test, y_test_pred))"
   ]
  },
  {
   "cell_type": "markdown",
   "id": "24c459b9",
   "metadata": {},
   "source": [
    "###  Classification "
   ]
  },
  {
   "cell_type": "code",
   "execution_count": null,
   "id": "5b44b278",
   "metadata": {},
   "outputs": [],
   "source": []
  },
  {
   "cell_type": "code",
   "execution_count": null,
   "id": "cb222088",
   "metadata": {},
   "outputs": [],
   "source": []
  }
 ],
 "metadata": {
  "kernelspec": {
   "display_name": "Python 3 (ipykernel)",
   "language": "python",
   "name": "python3"
  },
  "language_info": {
   "codemirror_mode": {
    "name": "ipython",
    "version": 3
   },
   "file_extension": ".py",
   "mimetype": "text/x-python",
   "name": "python",
   "nbconvert_exporter": "python",
   "pygments_lexer": "ipython3",
   "version": "3.9.7"
  }
 },
 "nbformat": 4,
 "nbformat_minor": 5
}
