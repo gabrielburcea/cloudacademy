{
 "cells": [
  {
   "cell_type": "markdown",
   "id": "a94b40ac",
   "metadata": {},
   "source": [
    "# The Supervised Machine Learning Set Up\n",
    "\n",
    "\n",
    "###  General\n",
    "  * $y$ -- target\n",
    "      * the variable we are trying to predict \n",
    "      \n",
    "  * $x$ -- feature\n",
    "      * $x$ -- multiple features\n",
    "      \n",
    "\n",
    "### Dataset\n",
    "  * $\\mathcal{D_{train}} = \\{ (x_0^0, x_1^0, \\dots y^0),  (x_0^1, x_1^1, \\dots y^1), \\dots \\})$ \n",
    "\n",
    "\n",
    "### Relationships\n",
    "  * $y = f(x)$\n",
    "      * you can calculate y from x\n",
    "      \n",
    "  * $\\hat{y}$ -- the estimate for $y$\n",
    "  \n",
    "  * $\\hat{y} = \\hat{f}(x)$ -- the estimate for $f$\n",
    "  \n",
    "### Loss\n",
    "  \n",
    "  * $loss(\\hat{y^i}, y^i)$ -- how wrong we are at each point; how bad an estimated *point*\n",
    "  \n",
    "      * $L = \\sum loss(\\hat{y}, y)$ -- total loss\n",
    "          * how wrong the entire model is; how wrong *every* point is \n",
    "      "
   ]
  },
  {
   "cell_type": "markdown",
   "id": "2d531788",
   "metadata": {},
   "source": [
    "### An example Problem\n",
    "\n",
    " * $y$: film rating \n",
    " * $x$: user's age "
   ]
  },
  {
   "cell_type": "code",
   "execution_count": 4,
   "id": "b8ecff5f",
   "metadata": {},
   "outputs": [],
   "source": [
    "def f_rating(x):\n",
    "    return(0.08 * x + 0.5)"
   ]
  },
  {
   "cell_type": "code",
   "execution_count": 24,
   "id": "de2428c3",
   "metadata": {},
   "outputs": [
    {
     "data": {
      "text/plain": [
       "2.1799999999999997"
      ]
     },
     "execution_count": 24,
     "metadata": {},
     "output_type": "execute_result"
    }
   ],
   "source": [
    "y0 = f_rating(21)\n",
    "\n",
    "y0"
   ]
  },
  {
   "cell_type": "code",
   "execution_count": 50,
   "id": "f63f001f",
   "metadata": {},
   "outputs": [
    {
     "data": {
      "text/plain": [
       "{10: 1.3, 0: 0.5, 80: 6.9}"
      ]
     },
     "execution_count": 50,
     "metadata": {},
     "output_type": "execute_result"
    }
   ],
   "source": [
    "### Let's capture age and film rating into a Data Dictionary \n",
    "### Data Dictionary contains a pair of values -- key & value --> \n",
    "### in our problem we have age and then the value rating of the movie\n",
    "\n",
    "{\n",
    "    \n",
    "  10  : f_rating(10), \n",
    "   0  : f_rating(0), \n",
    "   80 : f_rating(80)\n",
    "}\n",
    "\n"
   ]
  },
  {
   "cell_type": "code",
   "execution_count": 51,
   "id": "33fe81d2",
   "metadata": {},
   "outputs": [],
   "source": [
    "def fhat_rating(x):\n",
    "    return 0.07 * x + 0.6 "
   ]
  },
  {
   "cell_type": "code",
   "execution_count": 52,
   "id": "146e7cf6",
   "metadata": {},
   "outputs": [
    {
     "data": {
      "text/plain": [
       "2.0700000000000003"
      ]
     },
     "execution_count": 52,
     "metadata": {},
     "output_type": "execute_result"
    }
   ],
   "source": [
    "yhat0 = fhat_rating(21)\n",
    "\n",
    "yhat0 "
   ]
  },
  {
   "cell_type": "code",
   "execution_count": 54,
   "id": "49d35e12",
   "metadata": {},
   "outputs": [],
   "source": [
    "def loss_rating(yhat, y): \n",
    "    return(yhat - y) ** 2"
   ]
  },
  {
   "cell_type": "code",
   "execution_count": 55,
   "id": "a5c9e0f1",
   "metadata": {},
   "outputs": [
    {
     "data": {
      "text/plain": [
       "0.012099999999999875"
      ]
     },
     "execution_count": 55,
     "metadata": {},
     "output_type": "execute_result"
    }
   ],
   "source": [
    "loss_rating(yhat0, y0)"
   ]
  },
  {
   "cell_type": "code",
   "execution_count": 56,
   "id": "673a4548",
   "metadata": {},
   "outputs": [],
   "source": [
    "Dtrain = [\n",
    "    (10, 3), # (x, y) = (age, rating)\n",
    "    (17, 3.1),\n",
    "    (18, 4.2),\n",
    "    (21, 5.6),\n",
    "    (32, 7),\n",
    "    (41, 7.5),\n",
    "    (51, 8),\n",
    "    (69, 8.5),\n",
    "    (81, 9),\n",
    "]"
   ]
  },
  {
   "cell_type": "code",
   "execution_count": 57,
   "id": "d0c0a560",
   "metadata": {},
   "outputs": [],
   "source": [
    "yhat = []\n",
    "loss = []\n",
    "\n",
    "for (x, y) in Dtrain: \n",
    "    prediction = fhat_rating(x)\n",
    "    error = loss_rating(prediction, y)\n",
    "    \n",
    "    yhat.append(prediction)\n",
    "    loss.append(error)\n",
    "    "
   ]
  },
  {
   "cell_type": "markdown",
   "id": "2e75311c",
   "metadata": {},
   "source": [
    "### Regression \n",
    "\n",
    "   * $y \\in \\mathbb{R}$   \n",
    "```python \n",
    "  this means y is in a set of real numbers \n",
    "```\n",
    "     \n",
    "```python\n",
    "\n",
    "   type(y) is float \n",
    "```"
   ]
  },
  {
   "cell_type": "code",
   "execution_count": 58,
   "id": "58d909e1",
   "metadata": {},
   "outputs": [
    {
     "data": {
      "text/plain": [
       "False"
      ]
     },
     "execution_count": 58,
     "metadata": {},
     "output_type": "execute_result"
    }
   ],
   "source": [
    "type(y) is float"
   ]
  },
  {
   "cell_type": "markdown",
   "id": "04dc1d5c",
   "metadata": {},
   "source": [
    "### Classification\n",
    "\n",
    "* binary classification \n",
    "    * e.g. likes or dislike \n",
    "    * $y \\in \\{ -1 , 1 \\}$\n",
    "    \n",
    "* multiclass classification \n",
    "    * $y \\in \\{London, Leeds, Manchester, \\dots \\}$\n",
    "    \n",
    "* Classes require a numerical representation to arrive at computational solution\n",
    "    * $y \\in \\{0, 1,2,3 \\dots \\}$ "
   ]
  },
  {
   "cell_type": "code",
   "execution_count": 42,
   "id": "f9d6cb2d",
   "metadata": {},
   "outputs": [],
   "source": [
    "def f_classify(x):\n",
    "    if x > 200:\n",
    "        return -1 \n",
    "    else:\n",
    "        return +1\n",
    "    "
   ]
  },
  {
   "cell_type": "code",
   "execution_count": 45,
   "id": "580e70cb",
   "metadata": {},
   "outputs": [],
   "source": [
    "y = f_classify(100)\n"
   ]
  },
  {
   "cell_type": "code",
   "execution_count": null,
   "id": "f82002fd",
   "metadata": {},
   "outputs": [],
   "source": [
    "classes = {-1, 1} \n",
    "# this is a set of classes not a dictionary (is a set of numbers)"
   ]
  },
  {
   "cell_type": "markdown",
   "id": "5c54c95c",
   "metadata": {},
   "source": [
    "```python\n",
    "  y in classes\n",
    "```"
   ]
  }
 ],
 "metadata": {
  "kernelspec": {
   "display_name": "Python 3 (ipykernel)",
   "language": "python",
   "name": "python3"
  },
  "language_info": {
   "codemirror_mode": {
    "name": "ipython",
    "version": 3
   },
   "file_extension": ".py",
   "mimetype": "text/x-python",
   "name": "python",
   "nbconvert_exporter": "python",
   "pygments_lexer": "ipython3",
   "version": "3.9.7"
  }
 },
 "nbformat": 4,
 "nbformat_minor": 5
}
